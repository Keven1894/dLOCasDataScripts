{
 "cells": [
  {
   "cell_type": "markdown",
   "metadata": {},
   "source": [
    "# This notebook is for pre- processing Text Data from a folder and and store the output in a specified directory"
   ]
  },
  {
   "cell_type": "markdown",
   "metadata": {},
   "source": [
    "## Objectives\n",
    "This notebook aims to give the user the ability to read the code from a folder of .txt files, perform the steps for pre processing on selected .txt file, store the output in a separate folder. "
   ]
  },
  {
   "cell_type": "markdown",
   "metadata": {},
   "source": [
    "IMPORTING PACKAGES AS REQUIRED"
   ]
  },
  {
   "cell_type": "code",
   "execution_count": 1,
   "metadata": {},
   "outputs": [],
   "source": [
    "#importing libraries\n",
    "\n",
    "import pandas as pd\n",
    "import numpy as np\n",
    "import os\n",
    "import re\n",
    "from datetime import datetime"
   ]
  },
  {
   "cell_type": "markdown",
   "metadata": {},
   "source": [
    "PATH OF A FOLDER WHERE UN-PROCESED  TEXT FILES ARE KEPT"
   ]
  },
  {
   "cell_type": "code",
   "execution_count": 3,
   "metadata": {},
   "outputs": [],
   "source": [
    "#importing data from 'input' folder\n",
    "\n",
    "path=r\"C:\\\\Users\\\\im_ak\\\\Desktop\\\\input\\\\\"\n",
    "files=os.listdir(path)"
   ]
  },
  {
   "cell_type": "markdown",
   "metadata": {},
   "source": [
    "Below code functionality as follows\n",
    "\n",
    "1) Take multiple unprocessed text from a specific folder\n",
    "\n",
    "2) Removing white spaces between them\n",
    "\n",
    "3) Removing the words and punctuation as per requirement.\n",
    "\n",
    "\n",
    "4) Storing the process data in a specific output folder with name and timestamp\n",
    "\n"
   ]
  },
  {
   "cell_type": "code",
   "execution_count": 4,
   "metadata": {},
   "outputs": [],
   "source": [
    "#looping the file\n",
    "for i in [x for x in files]:\n",
    "    f=open(path+i,'r',encoding='latin-1')\n",
    "\n",
    "    #files=[x for x in files if '.txt' in x]\n",
    "\n",
    "    #removing white spaces  between paragraph\n",
    "    text=' '.join([line.strip() for line in f if line.strip()!=''])\n",
    "    \n",
    "    \n",
    "\n",
    "    \n",
    "    #renmoving the special character with that word from a text\n",
    "    special_character_list = ['â','\\x80','sss','SSS','g88','88','59g','gg','8g', 'g89','8999','R.A.F.','G88','GG','59G','GG','8G', 'G89']\n",
    "    text=' '.join([ele for ele in text.split() if all(sp_character not in ele for sp_character in special_character_list)])\n",
    "    \n",
    "    #removing only that punctuation which are necessary only other punctuaation makes more readable\n",
    "    punc=['-',':','| |','@','#','/','\\\\','\\'','//','','â','|','<','>',';','?','!','(',')']\n",
    "    for ele in text:\n",
    "        if ele in punc:\n",
    "            text = text.replace(ele, \"\")\n",
    "\n",
    "\n",
    "    \n",
    "    \n",
    "    k=[]\n",
    "    for word in text.split():\n",
    "        if '.'in word and len(word)>5:\n",
    "            #print(word)\n",
    "            k.append( word.replace('.', '.\\n\\n'))\n",
    "        else:\n",
    "            k.append(word)\n",
    "    text=' '.join(k)\n",
    "    #storing the process_data each file in output folder\n",
    "    time1=datetime.now().strftime(\"%Y%m%d_%H%M%S\")\n",
    "    \n",
    "    output_name=i.replace('.txt','')+\"_processed\"+\"_\"+str(time1)+'.txt'\n",
    "    \n",
    "    output_path=r\"C:\\Users\\im_AK\\Desktop\\processdata\"+\"\\\\\"+str(output_name)\n",
    "    file = open(output_path, 'w',encoding='latin-1')\n",
    "    \n",
    "    \n",
    "    file.write(text)   \n",
    "\n",
    "    file.close()"
   ]
  }
 ],
 "metadata": {
  "kernelspec": {
   "display_name": "Python 3",
   "language": "python",
   "name": "python3"
  },
  "language_info": {
   "codemirror_mode": {
    "name": "ipython",
    "version": 3
   },
   "file_extension": ".py",
   "mimetype": "text/x-python",
   "name": "python",
   "nbconvert_exporter": "python",
   "pygments_lexer": "ipython3",
   "version": "3.8.8"
  }
 },
 "nbformat": 4,
 "nbformat_minor": 4
}
